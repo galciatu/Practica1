{
 "cells": [
  {
   "cell_type": "markdown",
   "id": "e6550fd3",
   "metadata": {},
   "source": [
    "# ESCUELA COMPLUTENSE DE INVIERNO - UCM 2022 (https://www.ucm.es/eci/)"
   ]
  },
  {
   "cell_type": "markdown",
   "id": "2f062b79",
   "metadata": {},
   "source": [
    "## Practice 1 - Sklean\n",
    "\n",
    "Objectives:\n",
    "- Inspect the data\n",
    "- Prepare data for training:\n",
    "   - Split your data into training and validation.\n",
    "   - Replace NAs\n",
    "   - Encode categorical variables: \n",
    "      - Label encoding for tree based methoods. NA can be another category.\n",
    "      - One-hot-encoding for linear models and neural networks.\n",
    "   - Normalize the data for linear and neural network models.\n",
    "- Train your model and do hyper-paramter search\n",
    "- Cross-validation\n",
    "- Lab"
   ]
  },
  {
   "cell_type": "code",
   "execution_count": 1,
   "id": "12d901b7",
   "metadata": {},
   "outputs": [],
   "source": [
    "import numpy as np\n",
    "import pandas as pd\n",
    "import matplotlib.pyplot as plt\n",
    "from sklearn.model_selection import train_test_split\n",
    "from sklearn.linear_model import LogisticRegression\n",
    "from sklearn.ensemble import RandomForestClassifier\n",
    "from sklearn.preprocessing import StandardScaler\n",
    "from sklearn.metrics import accuracy_score"
   ]
  },
  {
   "cell_type": "markdown",
   "id": "e4a16b25",
   "metadata": {},
   "source": [
    "### Getting the data"
   ]
  },
  {
   "cell_type": "code",
   "execution_count": 2,
   "id": "06fe9f6d",
   "metadata": {},
   "outputs": [],
   "source": [
    "def get_tumor_data():\n",
    "    ! wget https://archive.ics.uci.edu/ml/machine-learning-databases/primary-tumor/primary-tumor.data\n",
    "    ! wget https://archive.ics.uci.edu/ml/machine-learning-databases/primary-tumor/primary-tumor.names"
   ]
  },
  {
   "cell_type": "code",
   "execution_count": 3,
   "id": "7f9606e8",
   "metadata": {},
   "outputs": [
    {
     "name": "stdout",
     "output_type": "stream",
     "text": [
      "--2022-02-06 06:39:35--  https://archive.ics.uci.edu/ml/machine-learning-databases/primary-tumor/primary-tumor.data\n",
      "Resolving archive.ics.uci.edu (archive.ics.uci.edu)... 128.195.10.252\n",
      "Connecting to archive.ics.uci.edu (archive.ics.uci.edu)|128.195.10.252|:443... connected.\n",
      "HTTP request sent, awaiting response... 200 OK\n",
      "Length: 12356 (12K) [application/x-httpd-php]\n",
      "Saving to: ‘primary-tumor.data’\n",
      "\n",
      "primary-tumor.data  100%[===================>]  12.07K  --.-KB/s    in 0.02s   \n",
      "\n",
      "2022-02-06 06:39:36 (525 KB/s) - ‘primary-tumor.data’ saved [12356/12356]\n",
      "\n",
      "--2022-02-06 06:39:36--  https://archive.ics.uci.edu/ml/machine-learning-databases/primary-tumor/primary-tumor.names\n",
      "Resolving archive.ics.uci.edu (archive.ics.uci.edu)... 128.195.10.252\n",
      "Connecting to archive.ics.uci.edu (archive.ics.uci.edu)|128.195.10.252|:443... connected.\n",
      "HTTP request sent, awaiting response... 200 OK\n",
      "Length: 3703 (3.6K) [application/x-httpd-php]\n",
      "Saving to: ‘primary-tumor.names’\n",
      "\n",
      "primary-tumor.names 100%[===================>]   3.62K  --.-KB/s    in 0s      \n",
      "\n",
      "2022-02-06 06:39:36 (72.1 MB/s) - ‘primary-tumor.names’ saved [3703/3703]\n",
      "\n"
     ]
    }
   ],
   "source": [
    "get_tumor_data()"
   ]
  },
  {
   "cell_type": "markdown",
   "id": "3a3560b5",
   "metadata": {},
   "source": [
    "### Data exploration "
   ]
  },
  {
   "cell_type": "code",
   "execution_count": 3,
   "id": "274c2a59",
   "metadata": {},
   "outputs": [
    {
     "name": "stdout",
     "output_type": "stream",
     "text": [
      "1,1,1,?,3,2,2,1,2,2,2,2,2,2,2,2,2,2\r\n",
      "1,1,1,?,3,2,2,2,2,2,1,2,2,2,1,2,1,2\r\n",
      "1,1,2,2,3,1,2,2,2,2,2,2,2,2,2,2,1,2\r\n",
      "1,1,2,?,3,1,2,1,1,2,2,2,2,2,2,2,1,2\r\n",
      "1,1,2,?,3,1,2,1,1,2,2,2,2,2,2,2,1,2\r\n",
      "1,1,2,?,3,1,2,2,2,2,2,1,2,2,1,1,1,2\r\n",
      "1,2,1,1,1,1,2,2,2,2,2,2,1,1,1,2,2,2\r\n",
      "1,2,1,1,1,1,2,2,2,2,2,2,2,2,2,2,2,2\r\n",
      "1,2,1,1,1,2,2,2,2,2,2,2,2,1,2,2,2,2\r\n",
      "1,2,1,1,2,1,2,2,2,2,2,2,?,1,1,2,2,2\r\n"
     ]
    }
   ],
   "source": [
    "# notice the symbol \"?\". It looks like NAs.\n",
    "! head  primary-tumor.data"
   ]
  },
  {
   "cell_type": "code",
   "execution_count": 4,
   "id": "d7ec23a7",
   "metadata": {},
   "outputs": [],
   "source": [
    "#! head primary-tumor.names"
   ]
  },
  {
   "cell_type": "raw",
   "id": "2c25754c",
   "metadata": {},
   "source": [
    "Here is the information on our data. Note that these variables are all categorical.\n",
    "\n",
    "Attribute Information: (class is location of tumor)\n",
    "    --- NOTE: All attribute values in the database have been entered as\n",
    "              numeric values corresponding to their index in the list\n",
    "              of attribute values for that attribute domain as given below.\n",
    "    1. class: lung, head & neck, esophasus, thyroid, stomach, duoden & sm.int,\n",
    "              colon, rectum, anus, salivary glands, pancreas, gallblader,\n",
    "              liver, kidney, bladder, testis, prostate, ovary, corpus uteri,\n",
    "              cervix uteri, vagina, breast\n",
    "    2. age:   <30, 30-59, >=60\n",
    "    3. sex:   male, female\n",
    "    4. histologic-type: epidermoid, adeno, anaplastic\n",
    "    5. degree-of-diffe: well, fairly, poorly\n",
    "    6. bone: yes, no\n",
    "    7. bone-marrow: yes, no\n",
    "    8. lung: yes, no\n",
    "    9. pleura: yes, no\n",
    "   10. peritoneum: yes, no\n",
    "   11. liver: yes, no\n",
    "   12. brain: yes, no\n",
    "   13. skin: yes, no\n",
    "   14. neck: yes, no\n",
    "   15. supraclavicular: yes, no\n",
    "   16. axillar: yes, no\n",
    "   17. mediastinum: yes, no\n",
    "   18. abdominal: yes, no"
   ]
  },
  {
   "cell_type": "code",
   "execution_count": 5,
   "id": "4f9c8837",
   "metadata": {},
   "outputs": [],
   "source": [
    "names = [\"class\",\"age\",\"sex\",\"histologic-type\",\"degree-of-diffe\",\"bone\",\"bone-marrow\",\"lung\",\"pleura\",\n",
    "         \"peritoneum\",\"liver\",\"brain\",\"skin\",\"neck\",\"supraclavicular\",\"axillar\",\"mediastinum\", \"abdominal\"]"
   ]
  },
  {
   "cell_type": "markdown",
   "id": "d5adfb7d",
   "metadata": {},
   "source": [
    "Next we load the data with pandas."
   ]
  },
  {
   "cell_type": "code",
   "execution_count": 6,
   "id": "ca534c18",
   "metadata": {},
   "outputs": [
    {
     "data": {
      "text/html": [
       "<div>\n",
       "<style scoped>\n",
       "    .dataframe tbody tr th:only-of-type {\n",
       "        vertical-align: middle;\n",
       "    }\n",
       "\n",
       "    .dataframe tbody tr th {\n",
       "        vertical-align: top;\n",
       "    }\n",
       "\n",
       "    .dataframe thead th {\n",
       "        text-align: right;\n",
       "    }\n",
       "</style>\n",
       "<table border=\"1\" class=\"dataframe\">\n",
       "  <thead>\n",
       "    <tr style=\"text-align: right;\">\n",
       "      <th></th>\n",
       "      <th>class</th>\n",
       "      <th>age</th>\n",
       "      <th>sex</th>\n",
       "      <th>histologic-type</th>\n",
       "      <th>degree-of-diffe</th>\n",
       "      <th>bone</th>\n",
       "      <th>bone-marrow</th>\n",
       "      <th>lung</th>\n",
       "      <th>pleura</th>\n",
       "      <th>peritoneum</th>\n",
       "      <th>liver</th>\n",
       "      <th>brain</th>\n",
       "      <th>skin</th>\n",
       "      <th>neck</th>\n",
       "      <th>supraclavicular</th>\n",
       "      <th>axillar</th>\n",
       "      <th>mediastinum</th>\n",
       "      <th>abdominal</th>\n",
       "    </tr>\n",
       "  </thead>\n",
       "  <tbody>\n",
       "    <tr>\n",
       "      <th>0</th>\n",
       "      <td>1</td>\n",
       "      <td>1</td>\n",
       "      <td>1.0</td>\n",
       "      <td>NaN</td>\n",
       "      <td>3.0</td>\n",
       "      <td>2</td>\n",
       "      <td>2</td>\n",
       "      <td>1</td>\n",
       "      <td>2</td>\n",
       "      <td>2</td>\n",
       "      <td>2</td>\n",
       "      <td>2</td>\n",
       "      <td>2.0</td>\n",
       "      <td>2</td>\n",
       "      <td>2</td>\n",
       "      <td>2.0</td>\n",
       "      <td>2</td>\n",
       "      <td>2</td>\n",
       "    </tr>\n",
       "    <tr>\n",
       "      <th>1</th>\n",
       "      <td>1</td>\n",
       "      <td>1</td>\n",
       "      <td>1.0</td>\n",
       "      <td>NaN</td>\n",
       "      <td>3.0</td>\n",
       "      <td>2</td>\n",
       "      <td>2</td>\n",
       "      <td>2</td>\n",
       "      <td>2</td>\n",
       "      <td>2</td>\n",
       "      <td>1</td>\n",
       "      <td>2</td>\n",
       "      <td>2.0</td>\n",
       "      <td>2</td>\n",
       "      <td>1</td>\n",
       "      <td>2.0</td>\n",
       "      <td>1</td>\n",
       "      <td>2</td>\n",
       "    </tr>\n",
       "    <tr>\n",
       "      <th>2</th>\n",
       "      <td>1</td>\n",
       "      <td>1</td>\n",
       "      <td>2.0</td>\n",
       "      <td>2.0</td>\n",
       "      <td>3.0</td>\n",
       "      <td>1</td>\n",
       "      <td>2</td>\n",
       "      <td>2</td>\n",
       "      <td>2</td>\n",
       "      <td>2</td>\n",
       "      <td>2</td>\n",
       "      <td>2</td>\n",
       "      <td>2.0</td>\n",
       "      <td>2</td>\n",
       "      <td>2</td>\n",
       "      <td>2.0</td>\n",
       "      <td>1</td>\n",
       "      <td>2</td>\n",
       "    </tr>\n",
       "    <tr>\n",
       "      <th>3</th>\n",
       "      <td>1</td>\n",
       "      <td>1</td>\n",
       "      <td>2.0</td>\n",
       "      <td>NaN</td>\n",
       "      <td>3.0</td>\n",
       "      <td>1</td>\n",
       "      <td>2</td>\n",
       "      <td>1</td>\n",
       "      <td>1</td>\n",
       "      <td>2</td>\n",
       "      <td>2</td>\n",
       "      <td>2</td>\n",
       "      <td>2.0</td>\n",
       "      <td>2</td>\n",
       "      <td>2</td>\n",
       "      <td>2.0</td>\n",
       "      <td>1</td>\n",
       "      <td>2</td>\n",
       "    </tr>\n",
       "    <tr>\n",
       "      <th>4</th>\n",
       "      <td>1</td>\n",
       "      <td>1</td>\n",
       "      <td>2.0</td>\n",
       "      <td>NaN</td>\n",
       "      <td>3.0</td>\n",
       "      <td>1</td>\n",
       "      <td>2</td>\n",
       "      <td>1</td>\n",
       "      <td>1</td>\n",
       "      <td>2</td>\n",
       "      <td>2</td>\n",
       "      <td>2</td>\n",
       "      <td>2.0</td>\n",
       "      <td>2</td>\n",
       "      <td>2</td>\n",
       "      <td>2.0</td>\n",
       "      <td>1</td>\n",
       "      <td>2</td>\n",
       "    </tr>\n",
       "  </tbody>\n",
       "</table>\n",
       "</div>"
      ],
      "text/plain": [
       "   class  age  sex  histologic-type  degree-of-diffe  bone  bone-marrow  lung  \\\n",
       "0      1    1  1.0              NaN              3.0     2            2     1   \n",
       "1      1    1  1.0              NaN              3.0     2            2     2   \n",
       "2      1    1  2.0              2.0              3.0     1            2     2   \n",
       "3      1    1  2.0              NaN              3.0     1            2     1   \n",
       "4      1    1  2.0              NaN              3.0     1            2     1   \n",
       "\n",
       "   pleura  peritoneum  liver  brain  skin  neck  supraclavicular  axillar  \\\n",
       "0       2           2      2      2   2.0     2                2      2.0   \n",
       "1       2           2      1      2   2.0     2                1      2.0   \n",
       "2       2           2      2      2   2.0     2                2      2.0   \n",
       "3       1           2      2      2   2.0     2                2      2.0   \n",
       "4       1           2      2      2   2.0     2                2      2.0   \n",
       "\n",
       "   mediastinum  abdominal  \n",
       "0            2          2  \n",
       "1            1          2  \n",
       "2            1          2  \n",
       "3            1          2  \n",
       "4            1          2  "
      ]
     },
     "execution_count": 6,
     "metadata": {},
     "output_type": "execute_result"
    }
   ],
   "source": [
    "df = pd.read_csv(\"primary-tumor.data\", header=None, names=names, na_values=\"?\")\n",
    "df.head()"
   ]
  },
  {
   "cell_type": "code",
   "execution_count": 7,
   "id": "ebca5c63",
   "metadata": {},
   "outputs": [
    {
     "data": {
      "text/html": [
       "<div>\n",
       "<style scoped>\n",
       "    .dataframe tbody tr th:only-of-type {\n",
       "        vertical-align: middle;\n",
       "    }\n",
       "\n",
       "    .dataframe tbody tr th {\n",
       "        vertical-align: top;\n",
       "    }\n",
       "\n",
       "    .dataframe thead th {\n",
       "        text-align: right;\n",
       "    }\n",
       "</style>\n",
       "<table border=\"1\" class=\"dataframe\">\n",
       "  <thead>\n",
       "    <tr style=\"text-align: right;\">\n",
       "      <th></th>\n",
       "      <th>class</th>\n",
       "      <th>age</th>\n",
       "      <th>sex</th>\n",
       "      <th>histologic-type</th>\n",
       "      <th>degree-of-diffe</th>\n",
       "      <th>bone</th>\n",
       "      <th>bone-marrow</th>\n",
       "      <th>lung</th>\n",
       "      <th>pleura</th>\n",
       "      <th>peritoneum</th>\n",
       "      <th>liver</th>\n",
       "      <th>brain</th>\n",
       "      <th>skin</th>\n",
       "      <th>neck</th>\n",
       "      <th>supraclavicular</th>\n",
       "      <th>axillar</th>\n",
       "      <th>mediastinum</th>\n",
       "      <th>abdominal</th>\n",
       "    </tr>\n",
       "  </thead>\n",
       "  <tbody>\n",
       "    <tr>\n",
       "      <th>count</th>\n",
       "      <td>339.000000</td>\n",
       "      <td>339.000000</td>\n",
       "      <td>338.000000</td>\n",
       "      <td>272.000000</td>\n",
       "      <td>184.000000</td>\n",
       "      <td>339.000000</td>\n",
       "      <td>339.000000</td>\n",
       "      <td>339.000000</td>\n",
       "      <td>339.000000</td>\n",
       "      <td>339.000000</td>\n",
       "      <td>339.000000</td>\n",
       "      <td>339.000000</td>\n",
       "      <td>338.000000</td>\n",
       "      <td>339.000000</td>\n",
       "      <td>339.000000</td>\n",
       "      <td>338.000000</td>\n",
       "      <td>339.000000</td>\n",
       "      <td>339.000000</td>\n",
       "    </tr>\n",
       "    <tr>\n",
       "      <th>mean</th>\n",
       "      <td>8.678466</td>\n",
       "      <td>2.247788</td>\n",
       "      <td>1.523669</td>\n",
       "      <td>1.867647</td>\n",
       "      <td>2.233696</td>\n",
       "      <td>1.722714</td>\n",
       "      <td>1.979351</td>\n",
       "      <td>1.778761</td>\n",
       "      <td>1.778761</td>\n",
       "      <td>1.719764</td>\n",
       "      <td>1.678466</td>\n",
       "      <td>1.938053</td>\n",
       "      <td>1.940828</td>\n",
       "      <td>1.870206</td>\n",
       "      <td>1.820059</td>\n",
       "      <td>1.902367</td>\n",
       "      <td>1.728614</td>\n",
       "      <td>1.660767</td>\n",
       "    </tr>\n",
       "    <tr>\n",
       "      <th>std</th>\n",
       "      <td>7.052624</td>\n",
       "      <td>0.568362</td>\n",
       "      <td>0.500180</td>\n",
       "      <td>0.417492</td>\n",
       "      <td>0.896109</td>\n",
       "      <td>0.448321</td>\n",
       "      <td>0.142416</td>\n",
       "      <td>0.415695</td>\n",
       "      <td>0.415695</td>\n",
       "      <td>0.449778</td>\n",
       "      <td>0.467756</td>\n",
       "      <td>0.241415</td>\n",
       "      <td>0.236295</td>\n",
       "      <td>0.336573</td>\n",
       "      <td>0.384706</td>\n",
       "      <td>0.297258</td>\n",
       "      <td>0.445332</td>\n",
       "      <td>0.474149</td>\n",
       "    </tr>\n",
       "    <tr>\n",
       "      <th>min</th>\n",
       "      <td>1.000000</td>\n",
       "      <td>1.000000</td>\n",
       "      <td>1.000000</td>\n",
       "      <td>1.000000</td>\n",
       "      <td>1.000000</td>\n",
       "      <td>1.000000</td>\n",
       "      <td>1.000000</td>\n",
       "      <td>1.000000</td>\n",
       "      <td>1.000000</td>\n",
       "      <td>1.000000</td>\n",
       "      <td>1.000000</td>\n",
       "      <td>1.000000</td>\n",
       "      <td>1.000000</td>\n",
       "      <td>1.000000</td>\n",
       "      <td>1.000000</td>\n",
       "      <td>1.000000</td>\n",
       "      <td>1.000000</td>\n",
       "      <td>1.000000</td>\n",
       "    </tr>\n",
       "    <tr>\n",
       "      <th>25%</th>\n",
       "      <td>2.000000</td>\n",
       "      <td>2.000000</td>\n",
       "      <td>1.000000</td>\n",
       "      <td>2.000000</td>\n",
       "      <td>1.000000</td>\n",
       "      <td>1.000000</td>\n",
       "      <td>2.000000</td>\n",
       "      <td>2.000000</td>\n",
       "      <td>2.000000</td>\n",
       "      <td>1.000000</td>\n",
       "      <td>1.000000</td>\n",
       "      <td>2.000000</td>\n",
       "      <td>2.000000</td>\n",
       "      <td>2.000000</td>\n",
       "      <td>2.000000</td>\n",
       "      <td>2.000000</td>\n",
       "      <td>1.000000</td>\n",
       "      <td>1.000000</td>\n",
       "    </tr>\n",
       "    <tr>\n",
       "      <th>50%</th>\n",
       "      <td>7.000000</td>\n",
       "      <td>2.000000</td>\n",
       "      <td>2.000000</td>\n",
       "      <td>2.000000</td>\n",
       "      <td>3.000000</td>\n",
       "      <td>2.000000</td>\n",
       "      <td>2.000000</td>\n",
       "      <td>2.000000</td>\n",
       "      <td>2.000000</td>\n",
       "      <td>2.000000</td>\n",
       "      <td>2.000000</td>\n",
       "      <td>2.000000</td>\n",
       "      <td>2.000000</td>\n",
       "      <td>2.000000</td>\n",
       "      <td>2.000000</td>\n",
       "      <td>2.000000</td>\n",
       "      <td>2.000000</td>\n",
       "      <td>2.000000</td>\n",
       "    </tr>\n",
       "    <tr>\n",
       "      <th>75%</th>\n",
       "      <td>14.000000</td>\n",
       "      <td>3.000000</td>\n",
       "      <td>2.000000</td>\n",
       "      <td>2.000000</td>\n",
       "      <td>3.000000</td>\n",
       "      <td>2.000000</td>\n",
       "      <td>2.000000</td>\n",
       "      <td>2.000000</td>\n",
       "      <td>2.000000</td>\n",
       "      <td>2.000000</td>\n",
       "      <td>2.000000</td>\n",
       "      <td>2.000000</td>\n",
       "      <td>2.000000</td>\n",
       "      <td>2.000000</td>\n",
       "      <td>2.000000</td>\n",
       "      <td>2.000000</td>\n",
       "      <td>2.000000</td>\n",
       "      <td>2.000000</td>\n",
       "    </tr>\n",
       "    <tr>\n",
       "      <th>max</th>\n",
       "      <td>22.000000</td>\n",
       "      <td>3.000000</td>\n",
       "      <td>2.000000</td>\n",
       "      <td>3.000000</td>\n",
       "      <td>3.000000</td>\n",
       "      <td>2.000000</td>\n",
       "      <td>2.000000</td>\n",
       "      <td>2.000000</td>\n",
       "      <td>2.000000</td>\n",
       "      <td>2.000000</td>\n",
       "      <td>2.000000</td>\n",
       "      <td>2.000000</td>\n",
       "      <td>2.000000</td>\n",
       "      <td>2.000000</td>\n",
       "      <td>2.000000</td>\n",
       "      <td>2.000000</td>\n",
       "      <td>2.000000</td>\n",
       "      <td>2.000000</td>\n",
       "    </tr>\n",
       "  </tbody>\n",
       "</table>\n",
       "</div>"
      ],
      "text/plain": [
       "            class         age         sex  histologic-type  degree-of-diffe  \\\n",
       "count  339.000000  339.000000  338.000000       272.000000       184.000000   \n",
       "mean     8.678466    2.247788    1.523669         1.867647         2.233696   \n",
       "std      7.052624    0.568362    0.500180         0.417492         0.896109   \n",
       "min      1.000000    1.000000    1.000000         1.000000         1.000000   \n",
       "25%      2.000000    2.000000    1.000000         2.000000         1.000000   \n",
       "50%      7.000000    2.000000    2.000000         2.000000         3.000000   \n",
       "75%     14.000000    3.000000    2.000000         2.000000         3.000000   \n",
       "max     22.000000    3.000000    2.000000         3.000000         3.000000   \n",
       "\n",
       "             bone  bone-marrow        lung      pleura  peritoneum  \\\n",
       "count  339.000000   339.000000  339.000000  339.000000  339.000000   \n",
       "mean     1.722714     1.979351    1.778761    1.778761    1.719764   \n",
       "std      0.448321     0.142416    0.415695    0.415695    0.449778   \n",
       "min      1.000000     1.000000    1.000000    1.000000    1.000000   \n",
       "25%      1.000000     2.000000    2.000000    2.000000    1.000000   \n",
       "50%      2.000000     2.000000    2.000000    2.000000    2.000000   \n",
       "75%      2.000000     2.000000    2.000000    2.000000    2.000000   \n",
       "max      2.000000     2.000000    2.000000    2.000000    2.000000   \n",
       "\n",
       "            liver       brain        skin        neck  supraclavicular  \\\n",
       "count  339.000000  339.000000  338.000000  339.000000       339.000000   \n",
       "mean     1.678466    1.938053    1.940828    1.870206         1.820059   \n",
       "std      0.467756    0.241415    0.236295    0.336573         0.384706   \n",
       "min      1.000000    1.000000    1.000000    1.000000         1.000000   \n",
       "25%      1.000000    2.000000    2.000000    2.000000         2.000000   \n",
       "50%      2.000000    2.000000    2.000000    2.000000         2.000000   \n",
       "75%      2.000000    2.000000    2.000000    2.000000         2.000000   \n",
       "max      2.000000    2.000000    2.000000    2.000000         2.000000   \n",
       "\n",
       "          axillar  mediastinum   abdominal  \n",
       "count  338.000000   339.000000  339.000000  \n",
       "mean     1.902367     1.728614    1.660767  \n",
       "std      0.297258     0.445332    0.474149  \n",
       "min      1.000000     1.000000    1.000000  \n",
       "25%      2.000000     1.000000    1.000000  \n",
       "50%      2.000000     2.000000    2.000000  \n",
       "75%      2.000000     2.000000    2.000000  \n",
       "max      2.000000     2.000000    2.000000  "
      ]
     },
     "execution_count": 7,
     "metadata": {},
     "output_type": "execute_result"
    }
   ],
   "source": [
    "df.describe()"
   ]
  },
  {
   "cell_type": "markdown",
   "id": "9dc3d245",
   "metadata": {},
   "source": [
    "Notes:\n",
    "- All these variables are categorical. \n",
    "- If you look the the max you realized:\n",
    "   - The class has potentially 22 unique different values\n",
    "   - Most variables are binary except age, histologic-type, degree-of-diffe"
   ]
  },
  {
   "cell_type": "markdown",
   "id": "f749c074",
   "metadata": {},
   "source": [
    "How many classes do we have and how many observations per class?"
   ]
  },
  {
   "cell_type": "code",
   "execution_count": 8,
   "id": "8630b423",
   "metadata": {},
   "outputs": [
    {
     "data": {
      "text/plain": [
       "(339, 18)"
      ]
     },
     "execution_count": 8,
     "metadata": {},
     "output_type": "execute_result"
    }
   ],
   "source": [
    "df.shape"
   ]
  },
  {
   "cell_type": "code",
   "execution_count": 11,
   "id": "7bc70c4b",
   "metadata": {},
   "outputs": [
    {
     "data": {
      "text/plain": [
       "1     84\n",
       "5     39\n",
       "18    29\n",
       "11    28\n",
       "14    24\n",
       "22    24\n",
       "2     20\n",
       "12    16\n",
       "7     14\n",
       "4     14\n",
       "17    10\n",
       "3      9\n",
       "13     7\n",
       "8      6\n",
       "19     6\n",
       "10     2\n",
       "15     2\n",
       "20     2\n",
       "6      1\n",
       "16     1\n",
       "21     1\n",
       "Name: class, dtype: int64"
      ]
     },
     "execution_count": 11,
     "metadata": {},
     "output_type": "execute_result"
    }
   ],
   "source": [
    "df[\"class\"].value_counts()"
   ]
  },
  {
   "cell_type": "markdown",
   "id": "771e5f53",
   "metadata": {},
   "source": [
    "We need a few observations (how many is not clear) to be able to train a model for a particular class. I will keep observations belonging to a class with at least 15 observations."
   ]
  },
  {
   "cell_type": "code",
   "execution_count": 18,
   "id": "26afc357",
   "metadata": {},
   "outputs": [
    {
     "data": {
      "text/plain": [
       "Int64Index([1, 5, 18, 11, 14, 22, 2, 12], dtype='int64')"
      ]
     },
     "execution_count": 18,
     "metadata": {},
     "output_type": "execute_result"
    }
   ],
   "source": [
    "class_counts = df[\"class\"].value_counts()\n",
    "classes_to_keep = class_counts[class_counts > 15].index\n",
    "classes_to_keep"
   ]
  },
  {
   "cell_type": "code",
   "execution_count": 21,
   "id": "746681c0",
   "metadata": {},
   "outputs": [],
   "source": [
    "df_2 = df[df[\"class\"].isin(classes_to_keep)].reset_index(drop=True)"
   ]
  },
  {
   "cell_type": "code",
   "execution_count": 22,
   "id": "d4af638d",
   "metadata": {},
   "outputs": [
    {
     "data": {
      "text/plain": [
       "(264, 18)"
      ]
     },
     "execution_count": 22,
     "metadata": {},
     "output_type": "execute_result"
    }
   ],
   "source": [
    "df_2.shape"
   ]
  },
  {
   "cell_type": "code",
   "execution_count": 23,
   "id": "1e6bd85e",
   "metadata": {},
   "outputs": [
    {
     "data": {
      "text/html": [
       "<div>\n",
       "<style scoped>\n",
       "    .dataframe tbody tr th:only-of-type {\n",
       "        vertical-align: middle;\n",
       "    }\n",
       "\n",
       "    .dataframe tbody tr th {\n",
       "        vertical-align: top;\n",
       "    }\n",
       "\n",
       "    .dataframe thead th {\n",
       "        text-align: right;\n",
       "    }\n",
       "</style>\n",
       "<table border=\"1\" class=\"dataframe\">\n",
       "  <thead>\n",
       "    <tr style=\"text-align: right;\">\n",
       "      <th></th>\n",
       "      <th>class</th>\n",
       "      <th>age</th>\n",
       "      <th>sex</th>\n",
       "      <th>histologic-type</th>\n",
       "      <th>degree-of-diffe</th>\n",
       "      <th>bone</th>\n",
       "      <th>bone-marrow</th>\n",
       "      <th>lung</th>\n",
       "      <th>pleura</th>\n",
       "      <th>peritoneum</th>\n",
       "      <th>liver</th>\n",
       "      <th>brain</th>\n",
       "      <th>skin</th>\n",
       "      <th>neck</th>\n",
       "      <th>supraclavicular</th>\n",
       "      <th>axillar</th>\n",
       "      <th>mediastinum</th>\n",
       "      <th>abdominal</th>\n",
       "    </tr>\n",
       "  </thead>\n",
       "  <tbody>\n",
       "    <tr>\n",
       "      <th>0</th>\n",
       "      <td>1</td>\n",
       "      <td>1</td>\n",
       "      <td>1.0</td>\n",
       "      <td>NaN</td>\n",
       "      <td>3.0</td>\n",
       "      <td>2</td>\n",
       "      <td>2</td>\n",
       "      <td>1</td>\n",
       "      <td>2</td>\n",
       "      <td>2</td>\n",
       "      <td>2</td>\n",
       "      <td>2</td>\n",
       "      <td>2.0</td>\n",
       "      <td>2</td>\n",
       "      <td>2</td>\n",
       "      <td>2.0</td>\n",
       "      <td>2</td>\n",
       "      <td>2</td>\n",
       "    </tr>\n",
       "    <tr>\n",
       "      <th>1</th>\n",
       "      <td>1</td>\n",
       "      <td>1</td>\n",
       "      <td>1.0</td>\n",
       "      <td>NaN</td>\n",
       "      <td>3.0</td>\n",
       "      <td>2</td>\n",
       "      <td>2</td>\n",
       "      <td>2</td>\n",
       "      <td>2</td>\n",
       "      <td>2</td>\n",
       "      <td>1</td>\n",
       "      <td>2</td>\n",
       "      <td>2.0</td>\n",
       "      <td>2</td>\n",
       "      <td>1</td>\n",
       "      <td>2.0</td>\n",
       "      <td>1</td>\n",
       "      <td>2</td>\n",
       "    </tr>\n",
       "    <tr>\n",
       "      <th>2</th>\n",
       "      <td>1</td>\n",
       "      <td>1</td>\n",
       "      <td>2.0</td>\n",
       "      <td>2.0</td>\n",
       "      <td>3.0</td>\n",
       "      <td>1</td>\n",
       "      <td>2</td>\n",
       "      <td>2</td>\n",
       "      <td>2</td>\n",
       "      <td>2</td>\n",
       "      <td>2</td>\n",
       "      <td>2</td>\n",
       "      <td>2.0</td>\n",
       "      <td>2</td>\n",
       "      <td>2</td>\n",
       "      <td>2.0</td>\n",
       "      <td>1</td>\n",
       "      <td>2</td>\n",
       "    </tr>\n",
       "    <tr>\n",
       "      <th>3</th>\n",
       "      <td>1</td>\n",
       "      <td>1</td>\n",
       "      <td>2.0</td>\n",
       "      <td>NaN</td>\n",
       "      <td>3.0</td>\n",
       "      <td>1</td>\n",
       "      <td>2</td>\n",
       "      <td>1</td>\n",
       "      <td>1</td>\n",
       "      <td>2</td>\n",
       "      <td>2</td>\n",
       "      <td>2</td>\n",
       "      <td>2.0</td>\n",
       "      <td>2</td>\n",
       "      <td>2</td>\n",
       "      <td>2.0</td>\n",
       "      <td>1</td>\n",
       "      <td>2</td>\n",
       "    </tr>\n",
       "    <tr>\n",
       "      <th>4</th>\n",
       "      <td>1</td>\n",
       "      <td>1</td>\n",
       "      <td>2.0</td>\n",
       "      <td>NaN</td>\n",
       "      <td>3.0</td>\n",
       "      <td>1</td>\n",
       "      <td>2</td>\n",
       "      <td>1</td>\n",
       "      <td>1</td>\n",
       "      <td>2</td>\n",
       "      <td>2</td>\n",
       "      <td>2</td>\n",
       "      <td>2.0</td>\n",
       "      <td>2</td>\n",
       "      <td>2</td>\n",
       "      <td>2.0</td>\n",
       "      <td>1</td>\n",
       "      <td>2</td>\n",
       "    </tr>\n",
       "  </tbody>\n",
       "</table>\n",
       "</div>"
      ],
      "text/plain": [
       "   class  age  sex  histologic-type  degree-of-diffe  bone  bone-marrow  lung  \\\n",
       "0      1    1  1.0              NaN              3.0     2            2     1   \n",
       "1      1    1  1.0              NaN              3.0     2            2     2   \n",
       "2      1    1  2.0              2.0              3.0     1            2     2   \n",
       "3      1    1  2.0              NaN              3.0     1            2     1   \n",
       "4      1    1  2.0              NaN              3.0     1            2     1   \n",
       "\n",
       "   pleura  peritoneum  liver  brain  skin  neck  supraclavicular  axillar  \\\n",
       "0       2           2      2      2   2.0     2                2      2.0   \n",
       "1       2           2      1      2   2.0     2                1      2.0   \n",
       "2       2           2      2      2   2.0     2                2      2.0   \n",
       "3       1           2      2      2   2.0     2                2      2.0   \n",
       "4       1           2      2      2   2.0     2                2      2.0   \n",
       "\n",
       "   mediastinum  abdominal  \n",
       "0            2          2  \n",
       "1            1          2  \n",
       "2            1          2  \n",
       "3            1          2  \n",
       "4            1          2  "
      ]
     },
     "execution_count": 23,
     "metadata": {},
     "output_type": "execute_result"
    }
   ],
   "source": [
    "df_2.head()"
   ]
  },
  {
   "cell_type": "markdown",
   "id": "e83174b1",
   "metadata": {},
   "source": [
    "### Re-label the class column"
   ]
  },
  {
   "cell_type": "markdown",
   "id": "a52415c5",
   "metadata": {},
   "source": [
    "Now we need the relabel the classes"
   ]
  },
  {
   "cell_type": "code",
   "execution_count": 27,
   "id": "b7dff5c8",
   "metadata": {},
   "outputs": [
    {
     "data": {
      "text/plain": [
       "0    84\n",
       "2    39\n",
       "6    29\n",
       "3    28\n",
       "5    24\n",
       "7    24\n",
       "1    20\n",
       "4    16\n",
       "Name: class, dtype: int64"
      ]
     },
     "execution_count": 27,
     "metadata": {},
     "output_type": "execute_result"
    }
   ],
   "source": [
    "df_2[\"class\"] = df_2[\"class\"].astype(\"category\")\n",
    "df_2[\"class\"] = df_2[\"class\"].cat.codes\n",
    "df_2[\"class\"].value_counts()"
   ]
  },
  {
   "cell_type": "markdown",
   "id": "cd321b64",
   "metadata": {},
   "source": [
    "Which columns have NAs and how many per column?"
   ]
  },
  {
   "cell_type": "code",
   "execution_count": 29,
   "id": "9dfb9361",
   "metadata": {},
   "outputs": [
    {
     "data": {
      "text/plain": [
       "class                0\n",
       "age                  0\n",
       "sex                  0\n",
       "histologic-type     56\n",
       "degree-of-diffe    119\n",
       "bone                 0\n",
       "bone-marrow          0\n",
       "lung                 0\n",
       "pleura               0\n",
       "peritoneum           0\n",
       "liver                0\n",
       "brain                0\n",
       "skin                 1\n",
       "neck                 0\n",
       "supraclavicular      0\n",
       "axillar              1\n",
       "mediastinum          0\n",
       "abdominal            0\n",
       "dtype: int64"
      ]
     },
     "execution_count": 29,
     "metadata": {},
     "output_type": "execute_result"
    }
   ],
   "source": [
    "df_2.isnull().sum(axis = 0)"
   ]
  },
  {
   "cell_type": "markdown",
   "id": "03d55725",
   "metadata": {},
   "source": [
    "### Filling NAs\n",
    "Since all these variables are categorical, it make sense to fill NAs with a new category. I will go ahead and to that for \"histologic-type\" and \"degree-of-diffe\". In the case of the 3 other missing values it doesn't make sense to make a new category snice it is just one value."
   ]
  },
  {
   "cell_type": "code",
   "execution_count": 30,
   "id": "3e9d3466",
   "metadata": {},
   "outputs": [],
   "source": [
    "df_2[[\"histologic-type\", \"degree-of-diffe\"]] = df_2[[\"histologic-type\", \"degree-of-diffe\"]].fillna(value=0)"
   ]
  },
  {
   "cell_type": "code",
   "execution_count": 32,
   "id": "204f32ab",
   "metadata": {},
   "outputs": [
    {
     "data": {
      "text/plain": [
       "class              0\n",
       "age                0\n",
       "sex                0\n",
       "histologic-type    0\n",
       "degree-of-diffe    0\n",
       "bone               0\n",
       "bone-marrow        0\n",
       "lung               0\n",
       "pleura             0\n",
       "peritoneum         0\n",
       "liver              0\n",
       "brain              0\n",
       "skin               1\n",
       "neck               0\n",
       "supraclavicular    0\n",
       "axillar            1\n",
       "mediastinum        0\n",
       "abdominal          0\n",
       "dtype: int64"
      ]
     },
     "execution_count": 32,
     "metadata": {},
     "output_type": "execute_result"
    }
   ],
   "source": [
    "df_2.isnull().sum(axis = 0)"
   ]
  },
  {
   "cell_type": "markdown",
   "id": "776368e3",
   "metadata": {},
   "source": [
    "Let's assining these extra missing values to the majory category on their columns."
   ]
  },
  {
   "cell_type": "code",
   "execution_count": 33,
   "id": "6a528eb8",
   "metadata": {},
   "outputs": [
    {
     "data": {
      "text/plain": [
       "2.0    246\n",
       "1.0     17\n",
       "Name: skin, dtype: int64"
      ]
     },
     "execution_count": 33,
     "metadata": {},
     "output_type": "execute_result"
    }
   ],
   "source": [
    "df_2.skin.value_counts()"
   ]
  },
  {
   "cell_type": "code",
   "execution_count": 34,
   "id": "398627e3",
   "metadata": {},
   "outputs": [],
   "source": [
    "df_2[\"skin\"] = df_2[\"skin\"].fillna(value=2)"
   ]
  },
  {
   "cell_type": "code",
   "execution_count": 35,
   "id": "169f4246",
   "metadata": {},
   "outputs": [
    {
     "data": {
      "text/plain": [
       "2.0    247\n",
       "1.0     17\n",
       "Name: skin, dtype: int64"
      ]
     },
     "execution_count": 35,
     "metadata": {},
     "output_type": "execute_result"
    }
   ],
   "source": [
    "df_2.skin.value_counts()"
   ]
  },
  {
   "cell_type": "code",
   "execution_count": 36,
   "id": "d5882482",
   "metadata": {},
   "outputs": [
    {
     "data": {
      "text/plain": [
       "2.0    232\n",
       "1.0     31\n",
       "Name: axillar, dtype: int64"
      ]
     },
     "execution_count": 36,
     "metadata": {},
     "output_type": "execute_result"
    }
   ],
   "source": [
    "df_2.axillar.value_counts()"
   ]
  },
  {
   "cell_type": "code",
   "execution_count": 37,
   "id": "a7e0064a",
   "metadata": {},
   "outputs": [
    {
     "data": {
      "text/plain": [
       "2.0    233\n",
       "1.0     31\n",
       "Name: axillar, dtype: int64"
      ]
     },
     "execution_count": 37,
     "metadata": {},
     "output_type": "execute_result"
    }
   ],
   "source": [
    "df_2[\"axillar\"] = df_2[\"axillar\"].fillna(value=2)\n",
    "df_2.axillar.value_counts()"
   ]
  },
  {
   "cell_type": "code",
   "execution_count": 39,
   "id": "79607ff5",
   "metadata": {},
   "outputs": [
    {
     "data": {
      "text/html": [
       "<div>\n",
       "<style scoped>\n",
       "    .dataframe tbody tr th:only-of-type {\n",
       "        vertical-align: middle;\n",
       "    }\n",
       "\n",
       "    .dataframe tbody tr th {\n",
       "        vertical-align: top;\n",
       "    }\n",
       "\n",
       "    .dataframe thead th {\n",
       "        text-align: right;\n",
       "    }\n",
       "</style>\n",
       "<table border=\"1\" class=\"dataframe\">\n",
       "  <thead>\n",
       "    <tr style=\"text-align: right;\">\n",
       "      <th></th>\n",
       "      <th>class</th>\n",
       "      <th>age</th>\n",
       "      <th>sex</th>\n",
       "      <th>histologic-type</th>\n",
       "      <th>degree-of-diffe</th>\n",
       "      <th>bone</th>\n",
       "      <th>bone-marrow</th>\n",
       "      <th>lung</th>\n",
       "      <th>pleura</th>\n",
       "      <th>peritoneum</th>\n",
       "      <th>liver</th>\n",
       "      <th>brain</th>\n",
       "      <th>skin</th>\n",
       "      <th>neck</th>\n",
       "      <th>supraclavicular</th>\n",
       "      <th>axillar</th>\n",
       "      <th>mediastinum</th>\n",
       "      <th>abdominal</th>\n",
       "    </tr>\n",
       "  </thead>\n",
       "  <tbody>\n",
       "    <tr>\n",
       "      <th>0</th>\n",
       "      <td>0</td>\n",
       "      <td>1</td>\n",
       "      <td>1.0</td>\n",
       "      <td>0.0</td>\n",
       "      <td>3.0</td>\n",
       "      <td>2</td>\n",
       "      <td>2</td>\n",
       "      <td>1</td>\n",
       "      <td>2</td>\n",
       "      <td>2</td>\n",
       "      <td>2</td>\n",
       "      <td>2</td>\n",
       "      <td>2.0</td>\n",
       "      <td>2</td>\n",
       "      <td>2</td>\n",
       "      <td>2.0</td>\n",
       "      <td>2</td>\n",
       "      <td>2</td>\n",
       "    </tr>\n",
       "    <tr>\n",
       "      <th>1</th>\n",
       "      <td>0</td>\n",
       "      <td>1</td>\n",
       "      <td>1.0</td>\n",
       "      <td>0.0</td>\n",
       "      <td>3.0</td>\n",
       "      <td>2</td>\n",
       "      <td>2</td>\n",
       "      <td>2</td>\n",
       "      <td>2</td>\n",
       "      <td>2</td>\n",
       "      <td>1</td>\n",
       "      <td>2</td>\n",
       "      <td>2.0</td>\n",
       "      <td>2</td>\n",
       "      <td>1</td>\n",
       "      <td>2.0</td>\n",
       "      <td>1</td>\n",
       "      <td>2</td>\n",
       "    </tr>\n",
       "    <tr>\n",
       "      <th>2</th>\n",
       "      <td>0</td>\n",
       "      <td>1</td>\n",
       "      <td>2.0</td>\n",
       "      <td>2.0</td>\n",
       "      <td>3.0</td>\n",
       "      <td>1</td>\n",
       "      <td>2</td>\n",
       "      <td>2</td>\n",
       "      <td>2</td>\n",
       "      <td>2</td>\n",
       "      <td>2</td>\n",
       "      <td>2</td>\n",
       "      <td>2.0</td>\n",
       "      <td>2</td>\n",
       "      <td>2</td>\n",
       "      <td>2.0</td>\n",
       "      <td>1</td>\n",
       "      <td>2</td>\n",
       "    </tr>\n",
       "    <tr>\n",
       "      <th>3</th>\n",
       "      <td>0</td>\n",
       "      <td>1</td>\n",
       "      <td>2.0</td>\n",
       "      <td>0.0</td>\n",
       "      <td>3.0</td>\n",
       "      <td>1</td>\n",
       "      <td>2</td>\n",
       "      <td>1</td>\n",
       "      <td>1</td>\n",
       "      <td>2</td>\n",
       "      <td>2</td>\n",
       "      <td>2</td>\n",
       "      <td>2.0</td>\n",
       "      <td>2</td>\n",
       "      <td>2</td>\n",
       "      <td>2.0</td>\n",
       "      <td>1</td>\n",
       "      <td>2</td>\n",
       "    </tr>\n",
       "    <tr>\n",
       "      <th>4</th>\n",
       "      <td>0</td>\n",
       "      <td>1</td>\n",
       "      <td>2.0</td>\n",
       "      <td>0.0</td>\n",
       "      <td>3.0</td>\n",
       "      <td>1</td>\n",
       "      <td>2</td>\n",
       "      <td>1</td>\n",
       "      <td>1</td>\n",
       "      <td>2</td>\n",
       "      <td>2</td>\n",
       "      <td>2</td>\n",
       "      <td>2.0</td>\n",
       "      <td>2</td>\n",
       "      <td>2</td>\n",
       "      <td>2.0</td>\n",
       "      <td>1</td>\n",
       "      <td>2</td>\n",
       "    </tr>\n",
       "  </tbody>\n",
       "</table>\n",
       "</div>"
      ],
      "text/plain": [
       "   class  age  sex  histologic-type  degree-of-diffe  bone  bone-marrow  lung  \\\n",
       "0      0    1  1.0              0.0              3.0     2            2     1   \n",
       "1      0    1  1.0              0.0              3.0     2            2     2   \n",
       "2      0    1  2.0              2.0              3.0     1            2     2   \n",
       "3      0    1  2.0              0.0              3.0     1            2     1   \n",
       "4      0    1  2.0              0.0              3.0     1            2     1   \n",
       "\n",
       "   pleura  peritoneum  liver  brain  skin  neck  supraclavicular  axillar  \\\n",
       "0       2           2      2      2   2.0     2                2      2.0   \n",
       "1       2           2      1      2   2.0     2                1      2.0   \n",
       "2       2           2      2      2   2.0     2                2      2.0   \n",
       "3       1           2      2      2   2.0     2                2      2.0   \n",
       "4       1           2      2      2   2.0     2                2      2.0   \n",
       "\n",
       "   mediastinum  abdominal  \n",
       "0            2          2  \n",
       "1            1          2  \n",
       "2            1          2  \n",
       "3            1          2  \n",
       "4            1          2  "
      ]
     },
     "execution_count": 39,
     "metadata": {},
     "output_type": "execute_result"
    }
   ],
   "source": [
    "df_2.head()"
   ]
  },
  {
   "cell_type": "markdown",
   "id": "9aa27637",
   "metadata": {},
   "source": [
    "## Encoding of categorical variables\n",
    "The choice of encoding depends on the type of methods that we will be using. For tree based methods we could just leave the current encoding but for linear models and neural networks we need to re-encode non-binary variables."
   ]
  },
  {
   "cell_type": "code",
   "execution_count": 41,
   "id": "151150d1",
   "metadata": {},
   "outputs": [],
   "source": [
    "df_2 = pd.get_dummies(df_2, columns=[\"histologic-type\", \"degree-of-diffe\"])"
   ]
  },
  {
   "cell_type": "code",
   "execution_count": 42,
   "id": "2484c559",
   "metadata": {},
   "outputs": [
    {
     "data": {
      "text/html": [
       "<div>\n",
       "<style scoped>\n",
       "    .dataframe tbody tr th:only-of-type {\n",
       "        vertical-align: middle;\n",
       "    }\n",
       "\n",
       "    .dataframe tbody tr th {\n",
       "        vertical-align: top;\n",
       "    }\n",
       "\n",
       "    .dataframe thead th {\n",
       "        text-align: right;\n",
       "    }\n",
       "</style>\n",
       "<table border=\"1\" class=\"dataframe\">\n",
       "  <thead>\n",
       "    <tr style=\"text-align: right;\">\n",
       "      <th></th>\n",
       "      <th>class</th>\n",
       "      <th>age</th>\n",
       "      <th>sex</th>\n",
       "      <th>bone</th>\n",
       "      <th>bone-marrow</th>\n",
       "      <th>lung</th>\n",
       "      <th>pleura</th>\n",
       "      <th>peritoneum</th>\n",
       "      <th>liver</th>\n",
       "      <th>brain</th>\n",
       "      <th>...</th>\n",
       "      <th>mediastinum</th>\n",
       "      <th>abdominal</th>\n",
       "      <th>histologic-type_0.0</th>\n",
       "      <th>histologic-type_1.0</th>\n",
       "      <th>histologic-type_2.0</th>\n",
       "      <th>histologic-type_3.0</th>\n",
       "      <th>degree-of-diffe_0.0</th>\n",
       "      <th>degree-of-diffe_1.0</th>\n",
       "      <th>degree-of-diffe_2.0</th>\n",
       "      <th>degree-of-diffe_3.0</th>\n",
       "    </tr>\n",
       "  </thead>\n",
       "  <tbody>\n",
       "    <tr>\n",
       "      <th>0</th>\n",
       "      <td>0</td>\n",
       "      <td>1</td>\n",
       "      <td>1.0</td>\n",
       "      <td>2</td>\n",
       "      <td>2</td>\n",
       "      <td>1</td>\n",
       "      <td>2</td>\n",
       "      <td>2</td>\n",
       "      <td>2</td>\n",
       "      <td>2</td>\n",
       "      <td>...</td>\n",
       "      <td>2</td>\n",
       "      <td>2</td>\n",
       "      <td>1</td>\n",
       "      <td>0</td>\n",
       "      <td>0</td>\n",
       "      <td>0</td>\n",
       "      <td>0</td>\n",
       "      <td>0</td>\n",
       "      <td>0</td>\n",
       "      <td>1</td>\n",
       "    </tr>\n",
       "    <tr>\n",
       "      <th>1</th>\n",
       "      <td>0</td>\n",
       "      <td>1</td>\n",
       "      <td>1.0</td>\n",
       "      <td>2</td>\n",
       "      <td>2</td>\n",
       "      <td>2</td>\n",
       "      <td>2</td>\n",
       "      <td>2</td>\n",
       "      <td>1</td>\n",
       "      <td>2</td>\n",
       "      <td>...</td>\n",
       "      <td>1</td>\n",
       "      <td>2</td>\n",
       "      <td>1</td>\n",
       "      <td>0</td>\n",
       "      <td>0</td>\n",
       "      <td>0</td>\n",
       "      <td>0</td>\n",
       "      <td>0</td>\n",
       "      <td>0</td>\n",
       "      <td>1</td>\n",
       "    </tr>\n",
       "    <tr>\n",
       "      <th>2</th>\n",
       "      <td>0</td>\n",
       "      <td>1</td>\n",
       "      <td>2.0</td>\n",
       "      <td>1</td>\n",
       "      <td>2</td>\n",
       "      <td>2</td>\n",
       "      <td>2</td>\n",
       "      <td>2</td>\n",
       "      <td>2</td>\n",
       "      <td>2</td>\n",
       "      <td>...</td>\n",
       "      <td>1</td>\n",
       "      <td>2</td>\n",
       "      <td>0</td>\n",
       "      <td>0</td>\n",
       "      <td>1</td>\n",
       "      <td>0</td>\n",
       "      <td>0</td>\n",
       "      <td>0</td>\n",
       "      <td>0</td>\n",
       "      <td>1</td>\n",
       "    </tr>\n",
       "    <tr>\n",
       "      <th>3</th>\n",
       "      <td>0</td>\n",
       "      <td>1</td>\n",
       "      <td>2.0</td>\n",
       "      <td>1</td>\n",
       "      <td>2</td>\n",
       "      <td>1</td>\n",
       "      <td>1</td>\n",
       "      <td>2</td>\n",
       "      <td>2</td>\n",
       "      <td>2</td>\n",
       "      <td>...</td>\n",
       "      <td>1</td>\n",
       "      <td>2</td>\n",
       "      <td>1</td>\n",
       "      <td>0</td>\n",
       "      <td>0</td>\n",
       "      <td>0</td>\n",
       "      <td>0</td>\n",
       "      <td>0</td>\n",
       "      <td>0</td>\n",
       "      <td>1</td>\n",
       "    </tr>\n",
       "    <tr>\n",
       "      <th>4</th>\n",
       "      <td>0</td>\n",
       "      <td>1</td>\n",
       "      <td>2.0</td>\n",
       "      <td>1</td>\n",
       "      <td>2</td>\n",
       "      <td>1</td>\n",
       "      <td>1</td>\n",
       "      <td>2</td>\n",
       "      <td>2</td>\n",
       "      <td>2</td>\n",
       "      <td>...</td>\n",
       "      <td>1</td>\n",
       "      <td>2</td>\n",
       "      <td>1</td>\n",
       "      <td>0</td>\n",
       "      <td>0</td>\n",
       "      <td>0</td>\n",
       "      <td>0</td>\n",
       "      <td>0</td>\n",
       "      <td>0</td>\n",
       "      <td>1</td>\n",
       "    </tr>\n",
       "  </tbody>\n",
       "</table>\n",
       "<p>5 rows × 24 columns</p>\n",
       "</div>"
      ],
      "text/plain": [
       "   class  age  sex  bone  bone-marrow  lung  pleura  peritoneum  liver  brain  \\\n",
       "0      0    1  1.0     2            2     1       2           2      2      2   \n",
       "1      0    1  1.0     2            2     2       2           2      1      2   \n",
       "2      0    1  2.0     1            2     2       2           2      2      2   \n",
       "3      0    1  2.0     1            2     1       1           2      2      2   \n",
       "4      0    1  2.0     1            2     1       1           2      2      2   \n",
       "\n",
       "   ...  mediastinum  abdominal  histologic-type_0.0  histologic-type_1.0  \\\n",
       "0  ...            2          2                    1                    0   \n",
       "1  ...            1          2                    1                    0   \n",
       "2  ...            1          2                    0                    0   \n",
       "3  ...            1          2                    1                    0   \n",
       "4  ...            1          2                    1                    0   \n",
       "\n",
       "   histologic-type_2.0  histologic-type_3.0  degree-of-diffe_0.0  \\\n",
       "0                    0                    0                    0   \n",
       "1                    0                    0                    0   \n",
       "2                    1                    0                    0   \n",
       "3                    0                    0                    0   \n",
       "4                    0                    0                    0   \n",
       "\n",
       "   degree-of-diffe_1.0  degree-of-diffe_2.0  degree-of-diffe_3.0  \n",
       "0                    0                    0                    1  \n",
       "1                    0                    0                    1  \n",
       "2                    0                    0                    1  \n",
       "3                    0                    0                    1  \n",
       "4                    0                    0                    1  \n",
       "\n",
       "[5 rows x 24 columns]"
      ]
     },
     "execution_count": 42,
     "metadata": {},
     "output_type": "execute_result"
    }
   ],
   "source": [
    "df_2.head()"
   ]
  },
  {
   "cell_type": "markdown",
   "id": "eb939322",
   "metadata": {},
   "source": [
    "## Split data in training and validation\n",
    "Since we have 8 classes with some imbalance I will be stratifying on the label to get approximately the same proportion of labels in training and validation dataset. We first separate variables (X) from labels (Y)."
   ]
  },
  {
   "cell_type": "code",
   "execution_count": 45,
   "id": "6f84b26f",
   "metadata": {},
   "outputs": [
    {
     "data": {
      "text/plain": [
       "(264, 24)"
      ]
     },
     "execution_count": 45,
     "metadata": {},
     "output_type": "execute_result"
    }
   ],
   "source": [
    "df_2.shape"
   ]
  },
  {
   "cell_type": "code",
   "execution_count": 44,
   "id": "bd747f2e",
   "metadata": {},
   "outputs": [],
   "source": [
    "Y = df_2[\"class\"].values"
   ]
  },
  {
   "cell_type": "code",
   "execution_count": 46,
   "id": "2349dda3",
   "metadata": {},
   "outputs": [
    {
     "data": {
      "text/plain": [
       "(264, 23)"
      ]
     },
     "execution_count": 46,
     "metadata": {},
     "output_type": "execute_result"
    }
   ],
   "source": [
    "# all other columns\n",
    "X = df_2.iloc[:, 1:]\n",
    "X.shape"
   ]
  },
  {
   "cell_type": "code",
   "execution_count": 47,
   "id": "2114298c",
   "metadata": {},
   "outputs": [],
   "source": [
    "X_train, X_valid, y_train, y_valid = train_test_split(X, Y, stratify=Y, test_size=0.2)"
   ]
  },
  {
   "cell_type": "markdown",
   "id": "fd653000",
   "metadata": {},
   "source": [
    "### Normalized data\n",
    "Your variables should be normalized/standarized before running a linear model or a neural network. The scaling (mean and standard deviation per column) should be computed on the training data and applied to training and validation."
   ]
  },
  {
   "cell_type": "code",
   "execution_count": 48,
   "id": "88b7416d",
   "metadata": {},
   "outputs": [],
   "source": [
    "from sklearn.preprocessing import StandardScaler\n",
    "scaler = StandardScaler()\n",
    "X_train = scaler.fit_transform(X_train)\n",
    "X_valid = scaler.transform(X_valid)"
   ]
  },
  {
   "cell_type": "code",
   "execution_count": 49,
   "id": "2ce16f1f",
   "metadata": {},
   "outputs": [
    {
     "data": {
      "text/plain": [
       "array([[ 1.32568814,  0.92243005,  0.57187763,  0.18523964,  0.46867172,\n",
       "         0.54997194,  0.65243825,  0.68958283,  0.26658205,  0.27664167,\n",
       "         0.38306544,  0.51329626,  0.36661779, -1.58640054,  0.67466467,\n",
       "        -0.5206576 ,  2.50516707, -1.29262759, -0.15579424, -0.87082337,\n",
       "        -0.42281314, -0.26658205,  1.36064373],\n",
       "       [-0.37992282,  0.92243005,  0.57187763,  0.18523964,  0.46867172,\n",
       "         0.54997194, -1.53271209, -1.45015212,  0.26658205,  0.27664167,\n",
       "         0.38306544,  0.51329626,  0.36661779,  0.63035783, -1.48221783,\n",
       "        -0.5206576 , -0.39917497,  0.77361802, -0.15579424, -0.87082337,\n",
       "         2.36511099, -0.26658205, -0.73494625]])"
      ]
     },
     "execution_count": 49,
     "metadata": {},
     "output_type": "execute_result"
    }
   ],
   "source": [
    "X_train[:2]"
   ]
  },
  {
   "cell_type": "code",
   "execution_count": 53,
   "id": "b844809c",
   "metadata": {},
   "outputs": [
    {
     "data": {
      "text/plain": [
       "(0.0, 1.0000000000000002)"
      ]
     },
     "execution_count": 53,
     "metadata": {},
     "output_type": "execute_result"
    }
   ],
   "source": [
    "# mean and std of the first column\n",
    "X_train[:,0].mean(), X_train[:,0].std()"
   ]
  },
  {
   "cell_type": "markdown",
   "id": "ab119304",
   "metadata": {},
   "source": [
    "## Train and evaluate a multiclass logistic regression model"
   ]
  },
  {
   "cell_type": "code",
   "execution_count": 54,
   "id": "2bcc33f6",
   "metadata": {},
   "outputs": [
    {
     "data": {
      "text/plain": [
       "LogisticRegression(random_state=0)"
      ]
     },
     "execution_count": 54,
     "metadata": {},
     "output_type": "execute_result"
    }
   ],
   "source": [
    "clf = LogisticRegression(random_state=0) # this creates a model\n",
    "clf.fit(X_train, y_train) "
   ]
  },
  {
   "cell_type": "code",
   "execution_count": 55,
   "id": "f041c0b7",
   "metadata": {},
   "outputs": [],
   "source": [
    "y_train_hat = clf.predict(X_train)\n",
    "y_valid_hat = clf.predict(X_valid)"
   ]
  },
  {
   "cell_type": "code",
   "execution_count": 56,
   "id": "75a48ed6",
   "metadata": {},
   "outputs": [
    {
     "data": {
      "text/plain": [
       "(0.7772511848341233, 0.6226415094339622)"
      ]
     },
     "execution_count": 56,
     "metadata": {},
     "output_type": "execute_result"
    }
   ],
   "source": [
    "# computing training and validation accuracy\n",
    "accuracy_score(y_train, y_train_hat), accuracy_score(y_valid, y_valid_hat)"
   ]
  },
  {
   "cell_type": "code",
   "execution_count": 58,
   "id": "645fcecf",
   "metadata": {},
   "outputs": [
    {
     "data": {
      "text/plain": [
       "(8, 23)"
      ]
     },
     "execution_count": 58,
     "metadata": {},
     "output_type": "execute_result"
    }
   ],
   "source": [
    "# looking at the shape of model's parameters\n",
    "clf.coef_.shape # gives you the coeficients's shape"
   ]
  },
  {
   "cell_type": "code",
   "execution_count": 61,
   "id": "04ccc3c9",
   "metadata": {},
   "outputs": [],
   "source": [
    "#clf.coef_"
   ]
  },
  {
   "cell_type": "markdown",
   "id": "a697c5a6",
   "metadata": {},
   "source": [
    "## Train and evaluate a multiclass logistic regression model with L1 penalty"
   ]
  },
  {
   "cell_type": "code",
   "execution_count": 67,
   "id": "58639b40",
   "metadata": {},
   "outputs": [
    {
     "name": "stdout",
     "output_type": "stream",
     "text": [
      "accuracy 0.32075471698113206\n",
      "accuracy 0.6415094339622641\n",
      "accuracy 0.5849056603773585\n",
      "accuracy 0.6037735849056604\n"
     ]
    }
   ],
   "source": [
    "for C in [0.01, 0.1, 1, 2]:\n",
    "    clf = LogisticRegression(random_state=0, penalty='l1', C=C, solver='saga', max_iter=1000) # this creates a model\n",
    "    clf.fit(X_train, y_train) \n",
    "    print(\"accuracy\", clf.score(X_valid, y_valid))"
   ]
  },
  {
   "cell_type": "code",
   "execution_count": 70,
   "id": "05c14f4e",
   "metadata": {},
   "outputs": [
    {
     "data": {
      "text/plain": [
       "LogisticRegression(C=0.1, max_iter=1000, penalty='l1', random_state=0,\n",
       "                   solver='saga')"
      ]
     },
     "execution_count": 70,
     "metadata": {},
     "output_type": "execute_result"
    }
   ],
   "source": [
    "clf = LogisticRegression(random_state=0, penalty='l1', C=0.1, solver='saga', max_iter=1000)\n",
    "clf.fit(X_train, y_train)"
   ]
  },
  {
   "cell_type": "code",
   "execution_count": 88,
   "id": "0297c56b",
   "metadata": {},
   "outputs": [],
   "source": [
    "#clf.coef_"
   ]
  },
  {
   "cell_type": "code",
   "execution_count": 86,
   "id": "bd07b8a7",
   "metadata": {},
   "outputs": [
    {
     "data": {
      "text/plain": [
       "{0: 1,\n",
       " 1: 1,\n",
       " 2: 1,\n",
       " 3: 0,\n",
       " 4: 1,\n",
       " 5: 0,\n",
       " 6: 1,\n",
       " 7: 2,\n",
       " 8: 0,\n",
       " 9: 1,\n",
       " 10: 1,\n",
       " 11: 1,\n",
       " 12: 1,\n",
       " 13: 1,\n",
       " 14: 2,\n",
       " 15: 0,\n",
       " 16: 1,\n",
       " 17: 1,\n",
       " 18: 0,\n",
       " 19: 0,\n",
       " 20: 1,\n",
       " 21: 0,\n",
       " 22: 1}"
      ]
     },
     "execution_count": 86,
     "metadata": {},
     "output_type": "execute_result"
    }
   ],
   "source": [
    " {col:(np.abs(clf.coef_[:,col]) > 0).sum() for col in range(clf.coef_.shape[1])}"
   ]
  },
  {
   "cell_type": "markdown",
   "id": "5819f223",
   "metadata": {},
   "source": [
    "## Visualizing decision variables in two variables\n",
    "Note that this model is going to be much worst that the model with all variables"
   ]
  },
  {
   "cell_type": "code",
   "execution_count": 87,
   "id": "494d39f6",
   "metadata": {},
   "outputs": [
    {
     "data": {
      "text/plain": [
       "LogisticRegression(random_state=0)"
      ]
     },
     "execution_count": 87,
     "metadata": {},
     "output_type": "execute_result"
    }
   ],
   "source": [
    "clf = LogisticRegression(random_state=0) # this creates a model\n",
    "clf.fit(X_train[:,[7,14]], y_train)"
   ]
  },
  {
   "cell_type": "code",
   "execution_count": 89,
   "id": "da7e39ae",
   "metadata": {},
   "outputs": [
    {
     "name": "stdout",
     "output_type": "stream",
     "text": [
      "accuracy 0.3018867924528302\n"
     ]
    }
   ],
   "source": [
    "print(\"accuracy\", clf.score(X_valid[:,[7,14]], y_valid)) # this is in 8 classes"
   ]
  },
  {
   "cell_type": "code",
   "execution_count": 116,
   "id": "59c3479a",
   "metadata": {},
   "outputs": [],
   "source": [
    "h = .02  # step size in the mesh\n",
    "xx, yy = np.meshgrid(np.arange(-3, 3, h), np.arange(-3, 3, h))\n",
    "Z = clf.predict(np.c_[xx.ravel(), yy.ravel()])"
   ]
  },
  {
   "cell_type": "code",
   "execution_count": 117,
   "id": "5b88151f",
   "metadata": {},
   "outputs": [
    {
     "data": {
      "text/plain": [
       "0"
      ]
     },
     "execution_count": 117,
     "metadata": {},
     "output_type": "execute_result"
    }
   ],
   "source": [
    "(Z==7).sum()"
   ]
  },
  {
   "cell_type": "code",
   "execution_count": 118,
   "id": "d5b370d8",
   "metadata": {},
   "outputs": [],
   "source": [
    "l=0\n",
    "x1 = X_train[y_train == l, 7]\n",
    "x2 = X_train[y_train == l, 14]"
   ]
  },
  {
   "cell_type": "code",
   "execution_count": 119,
   "id": "bea0fb5d",
   "metadata": {},
   "outputs": [
    {
     "data": {
      "image/png": "[encoded data removed]",
      "text/plain": [
       "<Figure size 720x504 with 1 Axes>"
      ]
     },
     "metadata": {
      "needs_background": "light"
     },
     "output_type": "display_data"
    }
   ],
   "source": [
    "Z = Z.reshape(xx.shape)\n",
    "plt.figure(1, figsize=(10, 7))\n",
    "plt.pcolormesh(xx, yy, Z, cmap=plt.cm.Accent, shading='auto')\n",
    "\n",
    "plt.xlabel('feature 1')\n",
    "plt.ylabel('feature 2')\n",
    "\n",
    "plt.xlim(-3, 3)\n",
    "plt.ylim(-3, 3)\n",
    "\n",
    "plt.show()"
   ]
  },
  {
   "cell_type": "markdown",
   "id": "8e15550a",
   "metadata": {},
   "source": [
    "## Lab\n",
    "- Find the documentation for random forest and train a model.\n",
    "- Experiment with various parameters"
   ]
  },
  {
   "cell_type": "code",
   "execution_count": null,
   "id": "2a1ed230",
   "metadata": {},
   "outputs": [],
   "source": []
  }
 ],
 "metadata": {
  "kernelspec": {
   "display_name": "Python 3 (ipykernel)",
   "language": "python",
   "name": "python3"
  },
  "language_info": {
   "codemirror_mode": {
    "name": "ipython",
    "version": 3
   },
   "file_extension": ".py",
   "mimetype": "text/x-python",
   "name": "python",
   "nbconvert_exporter": "python",
   "pygments_lexer": "ipython3",
   "version": "3.8.12"
  }
 },
 "nbformat": 4,
 "nbformat_minor": 5
}
